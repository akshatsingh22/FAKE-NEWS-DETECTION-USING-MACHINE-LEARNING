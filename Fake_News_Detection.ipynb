{
  "nbformat": 4,
  "nbformat_minor": 0,
  "metadata": {
    "colab": {
      "name": "Fake_News_Detection.ipynb",
      "provenance": [],
      "collapsed_sections": [],
      "authorship_tag": "ABX9TyN2RGXHP0YXQs6L4OaW20Y6",
      "include_colab_link": true
    },
    "kernelspec": {
      "name": "python3",
      "display_name": "Python 3"
    },
    "accelerator": "GPU"
  },
  "cells": [
    {
      "cell_type": "markdown",
      "metadata": {
        "id": "view-in-github",
        "colab_type": "text"
      },
      "source": [
        "<a href=\"https://colab.research.google.com/github/akshatsingh22/FAKE-NEWS-DETECTION-USING-MACHINE-LEARNING/blob/master/Fake_News_Detection.ipynb\" target=\"_parent\"><img src=\"https://colab.research.google.com/assets/colab-badge.svg\" alt=\"Open In Colab\"/></a>"
      ]
    },
    {
      "cell_type": "markdown",
      "metadata": {
        "id": "-q3sXNs4nyl_",
        "colab_type": "text"
      },
      "source": [
        "***UPLOAD DATASET***"
      ]
    },
    {
      "cell_type": "code",
      "metadata": {
        "id": "XsZysF-kV8wc",
        "colab_type": "code",
        "outputId": "a796b713-6f74-4bb4-ce81-c57c691f7902",
        "colab": {
          "resources": {
            "http://localhost:8080/nbextensions/google.colab/files.js": {
              "data": "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",
              "ok": true,
              "headers": [
                [
                  "content-type",
                  "application/javascript"
                ]
              ],
              "status": 200,
              "status_text": ""
            }
          },
          "base_uri": "https://localhost:8080/",
          "height": 74
        }
      },
      "source": [
        "# load the dataset from local disk to google colab\n",
        "from google.colab import files\n",
        "uploaded = files.upload()"
      ],
      "execution_count": 1,
      "outputs": [
        {
          "output_type": "display_data",
          "data": {
            "text/html": [
              "\n",
              "     <input type=\"file\" id=\"files-6604693c-78dc-48e1-941f-5c450b12e4d0\" name=\"files[]\" multiple disabled />\n",
              "     <output id=\"result-6604693c-78dc-48e1-941f-5c450b12e4d0\">\n",
              "      Upload widget is only available when the cell has been executed in the\n",
              "      current browser session. Please rerun this cell to enable.\n",
              "      </output>\n",
              "      <script src=\"/nbextensions/google.colab/files.js\"></script> "
            ],
            "text/plain": [
              "<IPython.core.display.HTML object>"
            ]
          },
          "metadata": {
            "tags": []
          }
        },
        {
          "output_type": "stream",
          "text": [
            "Saving fake_news.json to fake_news.json\n"
          ],
          "name": "stdout"
        }
      ]
    },
    {
      "cell_type": "markdown",
      "metadata": {
        "id": "9g3yY9HqnmaY",
        "colab_type": "text"
      },
      "source": [
        "***IMPORT ALL THE NECESSARY PACKAGES***"
      ]
    },
    {
      "cell_type": "code",
      "metadata": {
        "id": "zrfHC0LfWG8y",
        "colab_type": "code",
        "outputId": "0b04106b-aa18-4bbe-89e8-427f67bb63d4",
        "colab": {
          "base_uri": "https://localhost:8080/",
          "height": 156
        }
      },
      "source": [
        "import io\n",
        "import json\n",
        "import itertools\n",
        "import pickle\n",
        "import pandas as pd\n",
        "import numpy as np\n",
        "import seaborn as sns\n",
        "import matplotlib.pyplot as plt\n",
        "from sklearn.preprocessing import StandardScaler\n",
        "\n",
        "from collections import Counter\n",
        "from sklearn.feature_extraction.text import TfidfVectorizer\n",
        "from sklearn.datasets import make_classification\n",
        "import sklearn.metrics as metrics\n",
        "from sklearn.metrics import confusion_matrix \n",
        "from sklearn.metrics import accuracy_score \n",
        "from sklearn.metrics import classification_report\n",
        "\n",
        "from sklearn import model_selection\n",
        "from sklearn.model_selection import train_test_split\n",
        "from sklearn.model_selection import cross_val_score\n",
        "from sklearn.model_selection import cross_val_predict\n",
        "from sklearn.model_selection import KFold\n",
        "\n",
        "from sklearn.naive_bayes import MultinomialNB\n",
        "from sklearn.linear_model import LogisticRegression\n",
        "from sklearn import svm, datasets\n",
        "from sklearn.ensemble import RandomForestClassifier\n",
        "from sklearn.tree import DecisionTreeClassifier\n",
        "\n",
        "!pip install --upgrade scikit-learn\n",
        "from sklearn.metrics import plot_confusion_matrix\n",
        "\n",
        "\n",
        "from collections import Counter\n",
        "import nltk\n",
        "from nltk.corpus import stopwords\n",
        "\n"
      ],
      "execution_count": 1,
      "outputs": [
        {
          "output_type": "stream",
          "text": [
            "/usr/local/lib/python3.6/dist-packages/statsmodels/tools/_testing.py:19: FutureWarning: pandas.util.testing is deprecated. Use the functions in the public API at pandas.testing instead.\n",
            "  import pandas.util.testing as tm\n"
          ],
          "name": "stderr"
        },
        {
          "output_type": "stream",
          "text": [
            "Requirement already up-to-date: scikit-learn in /usr/local/lib/python3.6/dist-packages (0.23.1)\n",
            "Requirement already satisfied, skipping upgrade: joblib>=0.11 in /usr/local/lib/python3.6/dist-packages (from scikit-learn) (0.15.0)\n",
            "Requirement already satisfied, skipping upgrade: threadpoolctl>=2.0.0 in /usr/local/lib/python3.6/dist-packages (from scikit-learn) (2.0.0)\n",
            "Requirement already satisfied, skipping upgrade: numpy>=1.13.3 in /usr/local/lib/python3.6/dist-packages (from scikit-learn) (1.18.4)\n",
            "Requirement already satisfied, skipping upgrade: scipy>=0.19.1 in /usr/local/lib/python3.6/dist-packages (from scikit-learn) (1.4.1)\n"
          ],
          "name": "stdout"
        }
      ]
    },
    {
      "cell_type": "markdown",
      "metadata": {
        "id": "ySWw2f6KocLQ",
        "colab_type": "text"
      },
      "source": [
        "***PLOT TOTAL TRUE AND FAKE HEADLINES***"
      ]
    },
    {
      "cell_type": "code",
      "metadata": {
        "id": "HrzE44hmC-zh",
        "colab_type": "code",
        "outputId": "e08f9ddf-cf24-4809-f103-9c09d841e40c",
        "colab": {
          "base_uri": "https://localhost:8080/",
          "height": 303
        }
      },
      "source": [
        "# df holds the entire fake news file\n",
        "df=pd.read_json('/content/fake_news.json', lines=True);\n",
        "\n",
        "\n",
        "# fake_headlines holds onlt the headlines that are fake\n",
        "fake_headlines=df[df.is_sarcastic==1];\n",
        "no_of_fake=(len(fake_headlines.index));\n",
        "\n",
        "# true_headlines holds only the headlines that are true \n",
        "true_headlines=df[df.is_sarcastic==0];\n",
        "no_of_true=(len(true_headlines.index));\n",
        "\n",
        "df3= pd.DataFrame({'Number': [no_of_fake, no_of_true]},\n",
        "                    index= ['fake', 'true'],);                     \n",
        "plot = df3.plot.pie(y='Number',figsize=(5, 5),shadow=True,autopct='%1.1f%%');              \n",
        "\n"
      ],
      "execution_count": 2,
      "outputs": [
        {
          "output_type": "display_data",
          "data": {
            "image/png": "[encoded data removed]",
            "text/plain": [
              "<Figure size 360x360 with 1 Axes>"
            ]
          },
          "metadata": {
            "tags": []
          }
        }
      ]
    },
    {
      "cell_type": "code",
      "metadata": {
        "id": "78ovkQnfALZ_",
        "colab_type": "code",
        "colab": {
          "base_uri": "https://localhost:8080/",
          "height": 266
        },
        "outputId": "31913156-b629-4ad8-bb61-b36cdac021be"
      },
      "source": [
        "# calculate length of headline when headline is true news and save in variable True_news\n",
        "cal_length = pd.Series(df.headline[df.is_sarcastic==0])\n",
        "True_news = cal_length.str.len()\n",
        "# calculate length of headline when headline is true news and save in variable True_news\n",
        "cal_length1 = pd.Series(df.headline[df.is_sarcastic==1])\n",
        "Fake_news = cal_length1.str.len()\n",
        "# making a DataFrame of the lengths obtained above and plotting in boxplot\n",
        "graph = pd.DataFrame({'True_news_Headlines': True_news, 'Fake_news_Headlines': Fake_news})\n",
        "plt = graph.boxplot()"
      ],
      "execution_count": 3,
      "outputs": [
        {
          "output_type": "display_data",
          "data": {
            "image/png": "[encoded data removed]",
            "text/plain": [
              "<Figure size 432x288 with 1 Axes>"
            ]
          },
          "metadata": {
            "tags": [],
            "needs_background": "light"
          }
        }
      ]
    },
    {
      "cell_type": "markdown",
      "metadata": {
        "id": "BWbSL2DfA58C",
        "colab_type": "text"
      },
      "source": [
        "***SPLIT THE DATASET IN TRAIN VALIDATION AND TEST SETS***"
      ]
    },
    {
      "cell_type": "code",
      "metadata": {
        "id": "hlK1sGFCA4uh",
        "colab_type": "code",
        "colab": {}
      },
      "source": [
        "# is_sarcastic is dependent of headline so assign X as headline and y as is_sarcastic\n",
        "X =df.headline\n",
        "y =df.is_sarcastic\n",
        "\n",
        "# SPLIT THE DATA INTO TRAIN AND TEST\n",
        "X_train, X_test, y_train, y_test = train_test_split(X, y, test_size=0.2, random_state=1)\n",
        "\n",
        "X_train, X_val, y_train, y_val = train_test_split(X_train, y_train, test_size=0.25, random_state=1) # 0.25 x 0.8 = 0.2"
      ],
      "execution_count": 0,
      "outputs": []
    },
    {
      "cell_type": "markdown",
      "metadata": {
        "id": "5sk0vVL4tEKi",
        "colab_type": "text"
      },
      "source": [
        "***PRINT TO CHECK IF THE SPLIT IS DONE PROPERLY***"
      ]
    },
    {
      "cell_type": "code",
      "metadata": {
        "id": "V974UTjDs4k3",
        "colab_type": "code",
        "outputId": "e86392a7-29b4-4ace-acab-f15e248525b7",
        "colab": {
          "base_uri": "https://localhost:8080/",
          "height": 119
        }
      },
      "source": [
        "print('Total number of training data:',len(X_train))\n",
        "print('Total number of Real news in training data:',len(X_train[y_train==0]))\n",
        "print('Total number of Fake news in training data:',len(X_train[y_train==1]))\n",
        "\n",
        "print('Total number of Test data:',len(X_test))\n",
        "print('Total number of Real news in Test data:',len(X_test[y_test==0]))\n",
        "print('Total number of Fake news in Test data:',len(X_test[y_test==1]))"
      ],
      "execution_count": 5,
      "outputs": [
        {
          "output_type": "stream",
          "text": [
            "Total number of training data: 17171\n",
            "Total number of Real news in training data: 8979\n",
            "Total number of Fake news in training data: 8192\n",
            "Total number of Test data: 5724\n",
            "Total number of Real news in Test data: 2991\n",
            "Total number of Fake news in Test data: 2733\n"
          ],
          "name": "stdout"
        }
      ]
    },
    {
      "cell_type": "markdown",
      "metadata": {
        "id": "7vItnCq98SUv",
        "colab_type": "text"
      },
      "source": [
        "***PLOT COMMON WORDS IN TRUE AND FAKE HEADLINES***"
      ]
    },
    {
      "cell_type": "code",
      "metadata": {
        "id": "q0wRS3DT7m2d",
        "colab_type": "code",
        "colab": {
          "base_uri": "https://localhost:8080/",
          "height": 755
        },
        "outputId": "6b8462b2-f071-47f4-8c3e-edb91dff41d4"
      },
      "source": [
        "common_words_fake_headlines=pd.Series(' '.join(X_train[y_train==1]).lower().split()).value_counts()[:15];\n",
        "common_words_true_headlines=pd.Series(' '.join(X_train[y_train==0]).lower().split()).value_counts()[:15];\n",
        "df1 = pd.DataFrame({'fake_headlines': common_words_fake_headlines,\n",
        "                   'true_headlines': common_words_true_headlines\n",
        "                    });\n",
        "plt=df1.plot.bar(rot=0,figsize=(20,13));\n",
        "plt.figure.savefig('comparison.png',dpi=400)"
      ],
      "execution_count": 6,
      "outputs": [
        {
          "output_type": "display_data",
          "data": {
            "image/png": "[encoded data removed]",
            "text/plain": [
              "<Figure size 1440x936 with 1 Axes>"
            ]
          },
          "metadata": {
            "tags": [],
            "needs_background": "light"
          }
        }
      ]
    },
    {
      "cell_type": "markdown",
      "metadata": {
        "id": "VYD_5L28ZRe3",
        "colab_type": "text"
      },
      "source": [
        "***IMPORT NLTK TO STOP THE COMMON ENGLISH WORDS***"
      ]
    },
    {
      "cell_type": "code",
      "metadata": {
        "id": "Zvws_izw8Mv3",
        "colab_type": "code",
        "colab": {
          "base_uri": "https://localhost:8080/",
          "height": 68
        },
        "outputId": "e47bea23-0dda-4acf-8753-8fa84f331ee7"
      },
      "source": [
        "# import nltk to stop the common english words e.g is,the,to\n",
        "import nltk\n",
        "nltk.download('stopwords')"
      ],
      "execution_count": 7,
      "outputs": [
        {
          "output_type": "stream",
          "text": [
            "[nltk_data] Downloading package stopwords to /root/nltk_data...\n",
            "[nltk_data]   Unzipping corpora/stopwords.zip.\n"
          ],
          "name": "stdout"
        },
        {
          "output_type": "execute_result",
          "data": {
            "text/plain": [
              "True"
            ]
          },
          "metadata": {
            "tags": []
          },
          "execution_count": 7
        }
      ]
    },
    {
      "cell_type": "code",
      "metadata": {
        "id": "CalvjTqv8uq1",
        "colab_type": "code",
        "colab": {}
      },
      "source": [
        "# saving the wordlist in stop\n",
        "from nltk.corpus import stopwords\n",
        "stop = stopwords.words('english')"
      ],
      "execution_count": 0,
      "outputs": []
    },
    {
      "cell_type": "markdown",
      "metadata": {
        "id": "TCIHmLHnZfwN",
        "colab_type": "text"
      },
      "source": [
        "***APPLY LIST COMPREHENSION TO REMOVE THE STOPWORDS***"
      ]
    },
    {
      "cell_type": "code",
      "metadata": {
        "id": "WIg1xcWo8xdu",
        "colab_type": "code",
        "colab": {
          "base_uri": "https://localhost:8080/",
          "height": 119
        },
        "outputId": "d9c730e2-1f6c-4885-8aa1-81f194431bad"
      },
      "source": [
        "# Taking the headline and splitting it with str.split() applying list comprehension to remove the stopwords\n",
        "X_train=X_train.str.split().apply(lambda x: [item for item in x if item not in stop])\n",
        "# print the first five rows of the dataset\n",
        "print(X_train.head())"
      ],
      "execution_count": 9,
      "outputs": [
        {
          "output_type": "stream",
          "text": [
            "8303     [environmentalists, speak, excessive, cheese, ...\n",
            "3114     [pope, cleans, dead, angel, flew, sistine, cha...\n",
            "4512     [writer's, guide, writer, 6:, influencer, -, l...\n",
            "22886        [nuclear-bomb, instructions, found, pentagon]\n",
            "3712     [trump, supporters, organize, rallies, across,...\n",
            "Name: headline, dtype: object\n"
          ],
          "name": "stdout"
        }
      ]
    },
    {
      "cell_type": "code",
      "metadata": {
        "id": "_8yIV9Qv9ruf",
        "colab_type": "code",
        "colab": {
          "base_uri": "https://localhost:8080/",
          "height": 119
        },
        "outputId": "8cf2beb1-38a6-42af-bd1b-10b73c5fcf9c"
      },
      "source": [
        "# The output is splitted so join it with str.join and with a space will give the normal string back\n",
        "X_train=X_train.str.join(' ');\n",
        "# print the first five rows of the dataset\n",
        "print(X_train.head())"
      ],
      "execution_count": 10,
      "outputs": [
        {
          "output_type": "stream",
          "text": [
            "8303      environmentalists speak excessive cheese logging\n",
            "3114     pope cleans dead angel flew sistine chapel window\n",
            "4512     writer's guide writer 6: influencer - loudest ...\n",
            "22886             nuclear-bomb instructions found pentagon\n",
            "3712      trump supporters organize rallies across country\n",
            "Name: headline, dtype: object\n"
          ],
          "name": "stdout"
        }
      ]
    },
    {
      "cell_type": "markdown",
      "metadata": {
        "id": "LKHZE8ixZtYJ",
        "colab_type": "text"
      },
      "source": [
        "***PLOT MOST COMMON WORDS IN TRUE AND FAKE HEADLINES AFTER REMOVING STOPWORDS***"
      ]
    },
    {
      "cell_type": "code",
      "metadata": {
        "id": "fQR63B_l-EZ0",
        "colab_type": "code",
        "colab": {
          "base_uri": "https://localhost:8080/",
          "height": 755
        },
        "outputId": "a793bec9-9078-4238-fa12-9d5298071d17"
      },
      "source": [
        "common_words_cleaned_fake_headlines=pd.Series(' '.join(X_train[y_train==1]).lower().split()).value_counts()[:15];\n",
        "common_words_cleaned_true_headlines=pd.Series(' '.join(X_train[y_train==0]).lower().split()).value_counts()[:15];\n",
        "df2 = pd.DataFrame({'fake_headlines': common_words_cleaned_fake_headlines,\n",
        "                   'true_headlines': common_words_cleaned_true_headlines\n",
        "                    });\n",
        "plt=df2.plot.bar(rot=0,figsize=(20,13));\n",
        "plt.figure.savefig('comparison.png',dpi=400)"
      ],
      "execution_count": 11,
      "outputs": [
        {
          "output_type": "display_data",
          "data": {
            "image/png": "[encoded data removed]",
            "text/plain": [
              "<Figure size 1440x936 with 1 Axes>"
            ]
          },
          "metadata": {
            "tags": [],
            "needs_background": "light"
          }
        }
      ]
    },
    {
      "cell_type": "markdown",
      "metadata": {
        "id": "1REdNyKBaMgn",
        "colab_type": "text"
      },
      "source": [
        "***REMOVING UNWANTED VALUES IN FROM THE DATASET***"
      ]
    },
    {
      "cell_type": "code",
      "metadata": {
        "id": "PUsALLgY-d2O",
        "colab_type": "code",
        "colab": {
          "base_uri": "https://localhost:8080/",
          "height": 119
        },
        "outputId": "f37e6cb7-b11f-44c0-a8ae-aa48b0a19cf9"
      },
      "source": [
        "#Still there are values which has no meaning in the training dataset so replacing it\n",
        "X_train = X_train.str.replace(':', '')\n",
        "X_train = X_train.str.replace('$', '')\n",
        "X_train = X_train.str.replace('%', '')\n",
        "X_train = X_train.str.replace('0', '')\n",
        "X_train = X_train.str.replace('1', '')\n",
        "X_train = X_train.str.replace('2', '')\n",
        "X_train = X_train.str.replace('3', '')\n",
        "X_train = X_train.str.replace('4', '')\n",
        "X_train = X_train.str.replace('5', '')\n",
        "X_train = X_train.str.replace('6', '')\n",
        "X_train = X_train.str.replace('7', '')\n",
        "X_train = X_train.str.replace('8', '')\n",
        "X_train = X_train.str.replace('9', '')\n",
        "# print the first five rows of the training dataset\n",
        "X_train.head()"
      ],
      "execution_count": 12,
      "outputs": [
        {
          "output_type": "execute_result",
          "data": {
            "text/plain": [
              "8303      environmentalists speak excessive cheese logging\n",
              "3114     pope cleans dead angel flew sistine chapel window\n",
              "4512     writer's guide writer  influencer - loudest vo...\n",
              "22886             nuclear-bomb instructions found pentagon\n",
              "3712      trump supporters organize rallies across country\n",
              "Name: headline, dtype: object"
            ]
          },
          "metadata": {
            "tags": []
          },
          "execution_count": 12
        }
      ]
    },
    {
      "cell_type": "markdown",
      "metadata": {
        "id": "u5WsGQdGBVfs",
        "colab_type": "text"
      },
      "source": [
        "**FEATURE EXTRACTION USING TFIDF**"
      ]
    },
    {
      "cell_type": "code",
      "metadata": {
        "id": "Qi2K3Clb_RNd",
        "colab_type": "code",
        "colab": {}
      },
      "source": [
        "# Create `tfidf_vectorizer` \n",
        "tfidf_vectorizer = TfidfVectorizer() \n",
        "\n",
        "# Fit and transform the training data \n",
        "tfidf_train = tfidf_vectorizer.fit_transform(X_train)\n",
        "\n",
        "# Transform the test set \n",
        "tfidf_test = tfidf_vectorizer.transform(X_test)\n",
        "tfidf_val = tfidf_vectorizer.transform(X_val)"
      ],
      "execution_count": 0,
      "outputs": []
    },
    {
      "cell_type": "code",
      "metadata": {
        "id": "ea3-O8RZBku9",
        "colab_type": "code",
        "colab": {
          "base_uri": "https://localhost:8080/",
          "height": 54
        },
        "outputId": "bb2213fb-420e-4fc8-c4dc-ffb9b8716d63"
      },
      "source": [
        "# Get the last 20 feature names\n",
        "print(tfidf_vectorizer.get_feature_names()[:20])"
      ],
      "execution_count": 14,
      "outputs": [
        {
          "output_type": "stream",
          "text": [
            "['aaa', 'aaron', 'aatish', 'ab', 'abandon', 'abandoned', 'abandoning', 'abandons', 'abbas', 'abbey', 'abbi', 'abby', 'abc', 'abcs', 'abdomen', 'abdominable', 'abduction', 'abductions', 'abdul', 'abe']\n"
          ],
          "name": "stdout"
        }
      ]
    },
    {
      "cell_type": "markdown",
      "metadata": {
        "id": "7dl-Nha7abLp",
        "colab_type": "text"
      },
      "source": [
        "***FITTING AND PREDICTION***"
      ]
    },
    {
      "cell_type": "code",
      "metadata": {
        "id": "iRmCXBU_F9wz",
        "colab_type": "code",
        "colab": {
          "base_uri": "https://localhost:8080/",
          "height": 68
        },
        "outputId": "f6ba58b8-0be8-401e-9068-c95f83f332c2"
      },
      "source": [
        "clf=MultinomialNB();\n",
        "clf.fit(tfidf_train, y_train,sample_weight=1);\n",
        "pred= clf.predict(tfidf_val);\n",
        "score=accuracy_score(y_val, pred);\n",
        "print(\"Validation Accuracy:   %0.3f\" % score);\n",
        "\n",
        "cm=confusion_matrix(y_val, pred);\n",
        "print(cm);"
      ],
      "execution_count": 15,
      "outputs": [
        {
          "output_type": "stream",
          "text": [
            "Validation Accuracy:   0.796\n",
            "[[2638  377]\n",
            " [ 792 1917]]\n"
          ],
          "name": "stdout"
        }
      ]
    },
    {
      "cell_type": "code",
      "metadata": {
        "id": "KNK2spYFGPlf",
        "colab_type": "code",
        "colab": {
          "base_uri": "https://localhost:8080/",
          "height": 68
        },
        "outputId": "c2f2ca94-a1a7-4885-ed41-258eb0245f0a"
      },
      "source": [
        "clf1=LogisticRegression(max_iter=2000);\n",
        "clf1.fit(tfidf_train, y_train);\n",
        "pred1= clf1.predict(tfidf_val);\n",
        "score1=accuracy_score(y_val, pred1);\n",
        "print(\"Validation Accuracy:   %0.3f\" % score1);\n",
        "\n",
        "cm=confusion_matrix(y_val, pred1);\n",
        "print(cm);"
      ],
      "execution_count": 16,
      "outputs": [
        {
          "output_type": "stream",
          "text": [
            "Validation Accuracy:   0.806\n",
            "[[2617  398]\n",
            " [ 711 1998]]\n"
          ],
          "name": "stdout"
        }
      ]
    },
    {
      "cell_type": "code",
      "metadata": {
        "id": "DMMuq2WrLoc5",
        "colab_type": "code",
        "colab": {
          "base_uri": "https://localhost:8080/",
          "height": 68
        },
        "outputId": "9a14dddb-05b0-43d4-bb96-fb8ffbe9c82e"
      },
      "source": [
        "clf2=svm.SVC(gamma='scale', probability=True);\n",
        "# clf=LogisticRegression(max_iter=2000);\n",
        "clf2.fit(tfidf_train, y_train);\n",
        "pred2= clf2.predict(tfidf_val);\n",
        "score2=accuracy_score(y_val, pred2);\n",
        "print(\"Validation Accuracy:   %0.3f\" % score2);\n",
        "\n",
        "cm=confusion_matrix(y_val, pred2);\n",
        "print(cm);"
      ],
      "execution_count": 17,
      "outputs": [
        {
          "output_type": "stream",
          "text": [
            "Validation Accuracy:   0.813\n",
            "[[2641  374]\n",
            " [ 696 2013]]\n"
          ],
          "name": "stdout"
        }
      ]
    },
    {
      "cell_type": "code",
      "metadata": {
        "id": "WnG5FEC3L3tC",
        "colab_type": "code",
        "colab": {
          "base_uri": "https://localhost:8080/",
          "height": 68
        },
        "outputId": "c56c1df8-6720-4d63-e95e-37dc6547cdac"
      },
      "source": [
        "clf3=RandomForestClassifier(n_estimators=50, max_depth=None, random_state=0);\n",
        "clf3.fit(tfidf_train, y_train);\n",
        "pred3= clf3.predict(tfidf_val);\n",
        "score3=accuracy_score(y_val, pred3);\n",
        "print(\"Validation Accuracy:   %0.3f\" % score3);\n",
        "\n",
        "cm=confusion_matrix(y_val, pred3);\n",
        "print(cm);"
      ],
      "execution_count": 18,
      "outputs": [
        {
          "output_type": "stream",
          "text": [
            "Validation Accuracy:   0.768\n",
            "[[2467  548]\n",
            " [ 782 1927]]\n"
          ],
          "name": "stdout"
        }
      ]
    },
    {
      "cell_type": "markdown",
      "metadata": {
        "id": "ISGSlYenajYm",
        "colab_type": "text"
      },
      "source": [
        "***SAVING THE BEST MODEL***"
      ]
    },
    {
      "cell_type": "code",
      "metadata": {
        "id": "ZNALX0AUMIEF",
        "colab_type": "code",
        "colab": {}
      },
      "source": [
        "# save the final model to disk using pickle\n",
        "fake_news_detector= 'fake_news_detector'\n",
        "pickle.dump(clf2, open(fake_news_detector, 'wb'))"
      ],
      "execution_count": 0,
      "outputs": []
    },
    {
      "cell_type": "code",
      "metadata": {
        "id": "X-N8R6TrNwfg",
        "colab_type": "code",
        "colab": {
          "base_uri": "https://localhost:8080/",
          "height": 68
        },
        "outputId": "2b179f35-b86d-4258-a1f1-40a1ace6bf9c"
      },
      "source": [
        "pred= clf2.predict(tfidf_test);\n",
        "score=accuracy_score(y_test, pred);\n",
        "cm=confusion_matrix(y_test, pred);\n",
        "print(cm);\n",
        "print(\"Out of Sample accuracy:   %0.3f\" % score);"
      ],
      "execution_count": 20,
      "outputs": [
        {
          "output_type": "stream",
          "text": [
            "[[2588  403]\n",
            " [ 674 2059]]\n",
            "Out of Sample accuracy:   0.812\n"
          ],
          "name": "stdout"
        }
      ]
    }
  ]
}